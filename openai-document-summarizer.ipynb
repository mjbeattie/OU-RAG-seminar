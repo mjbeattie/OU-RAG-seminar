{
 "cells": [
  {
   "cell_type": "markdown",
   "metadata": {
    "application/vnd.databricks.v1+cell": {
     "cellMetadata": {},
     "inputWidgets": {},
     "nuid": "e758cd4e-c04c-41cb-8345-48d798845f81",
     "showTitle": false,
     "title": ""
    }
   },
   "source": [
    "# openai-document-summarizer\n",
    "### September 27, 2023\n",
    "\n",
    "This script uses langchain and openai to summarize a document.  Langchain is used to read in and convert a PDF to text.  It is then used to construct a prompt for the LLM.  The prompt is passed to AzureChatOpenAI, which summarizes the document."
   ]
  },
  {
   "cell_type": "code",
   "execution_count": null,
   "metadata": {
    "application/vnd.databricks.v1+cell": {
     "cellMetadata": {
      "byteLimit": 2048000,
      "rowLimit": 10000
     },
     "inputWidgets": {},
     "nuid": "eaa8768e-faf6-49e4-bfe6-60fdc5176621",
     "showTitle": false,
     "title": ""
    }
   },
   "outputs": [],
   "source": [
    "# Define Azure storage variables\n",
    "dbutils.widgets.text(\"storageAccountName\", \"dlsgciitedausagedev1\", \"1) Storage Account:\")\n",
    "dbutils.widgets.text(\"containerName\", \"hackathon\", \"2) Container:\")"
   ]
  },
  {
   "cell_type": "code",
   "execution_count": null,
   "metadata": {
    "application/vnd.databricks.v1+cell": {
     "cellMetadata": {
      "byteLimit": 2048000,
      "rowLimit": 10000
     },
     "inputWidgets": {},
     "nuid": "4e56dfc0-3222-4390-b22f-e1ec4d16b00f",
     "showTitle": false,
     "title": ""
    }
   },
   "outputs": [],
   "source": [
    "%pip install azure-search-documents==11.4.0b8 azure-identity pypdf langchain==0.0.302 pdfplumber"
   ]
  },
  {
   "cell_type": "code",
   "execution_count": null,
   "metadata": {
    "application/vnd.databricks.v1+cell": {
     "cellMetadata": {
      "byteLimit": 2048000,
      "rowLimit": 10000
     },
     "inputWidgets": {},
     "nuid": "2e408f15-af51-4398-862b-cddd135a9df3",
     "showTitle": false,
     "title": ""
    }
   },
   "outputs": [],
   "source": [
    "# Restart Python to use new libraries\n",
    "dbutils.library.restartPython()"
   ]
  },
  {
   "cell_type": "code",
   "execution_count": null,
   "metadata": {
    "application/vnd.databricks.v1+cell": {
     "cellMetadata": {
      "byteLimit": 2048000,
      "rowLimit": 10000
     },
     "inputWidgets": {},
     "nuid": "103d6774-f4c0-4ff1-b91c-4892bbef39f9",
     "showTitle": false,
     "title": ""
    }
   },
   "outputs": [],
   "source": [
    "%run /Source/Common/storageMountPython"
   ]
  },
  {
   "cell_type": "code",
   "execution_count": null,
   "metadata": {
    "application/vnd.databricks.v1+cell": {
     "cellMetadata": {
      "byteLimit": 2048000,
      "rowLimit": 10000
     },
     "inputWidgets": {},
     "nuid": "9aafb25b-0d46-445c-a8ff-7cfe8466a93a",
     "showTitle": false,
     "title": ""
    }
   },
   "outputs": [],
   "source": [
    "# Import required libraries\n",
    "import openai\n",
    "import os\n",
    "from langchain.chat_models import AzureChatOpenAI\n",
    "from langchain.document_loaders import PyPDFLoader\n",
    "import langchain\n",
    "\n",
    "langchain.debug = False\n",
    "\n",
    "# Get keys and endpoints\n",
    "SECRET_SCOPE = \"<insert your Azure keyvault name here>\"\n",
    "os.environ[\"OPENAI_API_TYPE\"] = \"azure\"\n",
    "os.environ[\"OPENAI_API_VERSION\"] = \"2023-05-15\"\n",
    "os.environ[\"OPENAI_API_BASE\"] = \"https://openai-gci-eda-ds-dev-01.openai.azure.com/\"\n",
    "OPENAI_KEY_VALUE = dbutils.secrets.get(scope = SECRET_SCOPE, key = \"<insert the name of your openai key here>\")\n",
    "OPENAI_API_ENDPOINT = \"<insert the name of your openai key here>\"\n",
    "OPENAI_DEPLOYMENT = \"<insert the name of your azure openai deployment here>\"\n",
    "model: str = \"<insert the name of your OpenAI embedder here>\"\n",
    "\n",
    "openai.api_key = OPENAI_KEY_VALUE\n",
    "openai.api_endpoint = OPENAI_API_ENDPOINT\n",
    "\n",
    "# Load the Azure OpenAI instance\n",
    "chatbot = AzureChatOpenAI(deployment_name=OPENAI_DEPLOYMENT, temperature=0, openai_api_key=OPENAI_KEY_VALUE)\n"
   ]
  },
  {
   "cell_type": "code",
   "execution_count": null,
   "metadata": {
    "application/vnd.databricks.v1+cell": {
     "cellMetadata": {
      "byteLimit": 2048000,
      "rowLimit": 10000
     },
     "inputWidgets": {},
     "nuid": "089aa365-e53a-41e2-a33e-fab646635703",
     "showTitle": false,
     "title": ""
    }
   },
   "outputs": [],
   "source": [
    "# Use langchain to read a pdf.  Creates a langchain Document\n",
    "filename = \"<insert the name of the PDF to summarize here>\"\n",
    "loader = PyPDFLoader(filename)\n",
    "pdfdata = loader.load()"
   ]
  },
  {
   "cell_type": "code",
   "execution_count": null,
   "metadata": {
    "application/vnd.databricks.v1+cell": {
     "cellMetadata": {
      "byteLimit": 2048000,
      "rowLimit": 10000
     },
     "inputWidgets": {},
     "nuid": "7377e936-50e1-4c7f-968b-bbd880d0a502",
     "showTitle": false,
     "title": ""
    }
   },
   "outputs": [],
   "source": [
    "# Extract the text content from the Document and get rid of newlines\n",
    "docContent = \"\"\n",
    "for i in range(len(pdfdata)):\n",
    "  pageContent = pdfdata[i].page_content.replace(\"\\n\", \"\")\n",
    "  docContent += pageContent\n",
    "\n",
    "content = docContent"
   ]
  },
  {
   "cell_type": "code",
   "execution_count": null,
   "metadata": {
    "application/vnd.databricks.v1+cell": {
     "cellMetadata": {
      "byteLimit": 2048000,
      "rowLimit": 10000
     },
     "inputWidgets": {},
     "nuid": "029f3846-e9c9-4701-ab97-2b42dce1621b",
     "showTitle": false,
     "title": ""
    }
   },
   "outputs": [],
   "source": [
    "# Display the extracted text from the PDF\n",
    "content"
   ]
  },
  {
   "cell_type": "code",
   "execution_count": null,
   "metadata": {
    "application/vnd.databricks.v1+cell": {
     "cellMetadata": {
      "byteLimit": 2048000,
      "rowLimit": 10000
     },
     "inputWidgets": {},
     "nuid": "2a5bfa3f-e3d1-4cae-8e4f-5c84b82cc854",
     "showTitle": false,
     "title": ""
    }
   },
   "outputs": [],
   "source": [
    "# Define the prompt schema\n",
    "from langchain.schema import (\n",
    "    AIMessage,\n",
    "    HumanMessage,\n",
    "    SystemMessage\n",
    ")"
   ]
  },
  {
   "cell_type": "code",
   "execution_count": null,
   "metadata": {
    "application/vnd.databricks.v1+cell": {
     "cellMetadata": {
      "byteLimit": 2048000,
      "rowLimit": 10000
     },
     "inputWidgets": {},
     "nuid": "25cfcd70-f54f-43b8-90af-79d82053a6ff",
     "showTitle": false,
     "title": ""
    }
   },
   "outputs": [],
   "source": [
    "# Create prompt\n",
    "prompt_prefix = \"\"\" \n",
    "  Summarize the following document into a set of no more than twenty bullet points.  List the names of any companies in the document and their addresses.  Also identify the prices of any services:\n",
    "\"\"\"\n",
    "\n",
    "prompt = prompt_prefix + content\n",
    "print(prompt)"
   ]
  },
  {
   "cell_type": "code",
   "execution_count": null,
   "metadata": {
    "application/vnd.databricks.v1+cell": {
     "cellMetadata": {
      "byteLimit": 2048000,
      "rowLimit": 10000
     },
     "inputWidgets": {},
     "nuid": "4ec7bbec-31cc-4e20-87ae-52e1635724fb",
     "showTitle": false,
     "title": ""
    }
   },
   "outputs": [],
   "source": [
    "# Call the chatbot and pass the prompt.  Print the response from the returned structure.\n",
    "botresponse = chatbot([HumanMessage(content=prompt)])\n",
    "print(botresponse.content)"
   ]
  },
  {
   "cell_type": "code",
   "execution_count": null,
   "metadata": {
    "application/vnd.databricks.v1+cell": {
     "cellMetadata": {
      "byteLimit": 2048000,
      "rowLimit": 10000
     },
     "inputWidgets": {},
     "nuid": "a694ee49-81c5-4fe5-ae3b-bab20f5d7656",
     "showTitle": false,
     "title": ""
    }
   },
   "outputs": [],
   "source": [
    "# Try a trickier one:\n",
    "prompt_prefix = \"\"\" \n",
    "  Identify any legal risks in this contract:\n",
    "\"\"\"\n",
    "\n",
    "prompt = prompt_prefix + content\n",
    "botresponse = chatbot([HumanMessage(content=prompt)])\n",
    "print(botresponse.content)"
   ]
  }
 ],
 "metadata": {
  "application/vnd.databricks.v1+notebook": {
   "dashboards": [],
   "language": "python",
   "notebookMetadata": {
    "pythonIndentUnit": 2
   },
   "notebookName": "openai-document-summarizer",
   "widgets": {
    "containerName": {
     "currentValue": "hackathon",
     "nuid": "ecb25fed-2d6f-4e86-b9da-67ff670921f9",
     "widgetInfo": {
      "defaultValue": "hackathon",
      "label": "2) Container:",
      "name": "containerName",
      "options": {
       "validationRegex": null,
       "widgetType": "text"
      },
      "widgetType": "text"
     }
    },
    "storageAccountName": {
     "currentValue": "dlsgciitedausagedev1",
     "nuid": "93341c85-5855-4f44-a199-4352d16e4e21",
     "widgetInfo": {
      "defaultValue": "dlsgciitedausagedev1",
      "label": "1) Storage Account:",
      "name": "storageAccountName",
      "options": {
       "validationRegex": null,
       "widgetType": "text"
      },
      "widgetType": "text"
     }
    }
   }
  },
  "kernelspec": {
   "display_name": "Python 3 (ipykernel)",
   "language": "python",
   "name": "python3"
  },
  "language_info": {
   "codemirror_mode": {
    "name": "ipython",
    "version": 3
   },
   "file_extension": ".py",
   "mimetype": "text/x-python",
   "name": "python",
   "nbconvert_exporter": "python",
   "pygments_lexer": "ipython3",
   "version": "3.8.13"
  }
 },
 "nbformat": 4,
 "nbformat_minor": 4
}
